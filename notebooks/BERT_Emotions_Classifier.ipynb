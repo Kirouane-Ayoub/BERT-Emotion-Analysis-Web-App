{
  "nbformat": 4,
  "nbformat_minor": 0,
  "metadata": {
    "colab": {
      "provenance": []
    },
    "kernelspec": {
      "name": "python3",
      "display_name": "Python 3"
    },
    "language_info": {
      "name": "python"
    }
  },
  "cells": [
    {
      "cell_type": "code",
      "execution_count": 1,
      "metadata": {
        "id": "MUAFvUUYreIn"
      },
      "outputs": [],
      "source": [
        "! pip -q install gradio transformers"
      ]
    },
    {
      "cell_type": "code",
      "source": [
        "import gradio as gr\n",
        "from transformers import pipeline\n",
        "import pandas as pd\n",
        "\n",
        "def analyze(text):\n",
        "    classifier = pipeline(\"text-classification\", model=\"ayoubkirouane/BERT-Emotions-Classifier\", return_all_scores=True)\n",
        "    results = classifier(text)\n",
        "\n",
        "    # Extract and format the emotion labels and scores\n",
        "    formatted_results = [{\"Emotion\": item['label'], \"Score\": item['score']} for item in results[0]]\n",
        "\n",
        "    return pd.DataFrame(formatted_results)\n",
        "\n",
        "examples = [\"Walking alone in the dark forest, he couldn't shake the feeling of fear creeping over him.\" ,\n",
        "            \"Winning the championship brought tears of joy to the entire team.\"]\n",
        "# Create a Gradio interface\n",
        "iface = gr.Interface(fn=analyze,\n",
        "                     inputs=\"text\",\n",
        "                     outputs=gr.outputs.Dataframe(type=\"pandas\"),\n",
        "                     allow_flagging=False ,\n",
        "                     examples=examples ,\n",
        "                     title=\"BERT Emotion Analysis App\" ,\n",
        "                     description=\"Enter a piece of text, and this app will analyze its emotional content using a BERT-Emotions-Classifier model.\",\n",
        "                     )\n",
        "\n",
        "# Launch the app\n",
        "iface.launch(debug=True , share=True)"
      ],
      "metadata": {
        "id": "p8bFsvOiwzIL"
      },
      "execution_count": null,
      "outputs": []
    }
  ]
}